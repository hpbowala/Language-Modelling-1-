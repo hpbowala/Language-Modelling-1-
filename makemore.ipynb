{
  "nbformat": 4,
  "nbformat_minor": 0,
  "metadata": {
    "colab": {
      "provenance": [],
      "include_colab_link": true
    },
    "kernelspec": {
      "name": "python3",
      "display_name": "Python 3"
    },
    "language_info": {
      "name": "python"
    }
  },
  "cells": [
    {
      "cell_type": "markdown",
      "metadata": {
        "id": "view-in-github",
        "colab_type": "text"
      },
      "source": [
        "<a href=\"https://colab.research.google.com/github/hpbowala/Language-Modelling-1-/blob/main/makemore.ipynb\" target=\"_parent\"><img src=\"https://colab.research.google.com/assets/colab-badge.svg\" alt=\"Open In Colab\"/></a>"
      ]
    },
    {
      "cell_type": "code",
      "execution_count": null,
      "metadata": {
        "id": "4SX9P0LBoIvq"
      },
      "outputs": [],
      "source": [
        "words = open('names.txt','r').read().splitlines()"
      ]
    },
    {
      "cell_type": "code",
      "source": [
        "words[:10]"
      ],
      "metadata": {
        "colab": {
          "base_uri": "https://localhost:8080/"
        },
        "id": "sKSk2s5qtWhd",
        "outputId": "5638d7c2-0fe2-47a1-f842-a624924af618"
      },
      "execution_count": null,
      "outputs": [
        {
          "output_type": "execute_result",
          "data": {
            "text/plain": [
              "['emma',\n",
              " 'olivia',\n",
              " 'ava',\n",
              " 'isabella',\n",
              " 'sophia',\n",
              " 'charlotte',\n",
              " 'mia',\n",
              " 'amelia',\n",
              " 'harper',\n",
              " 'evelyn']"
            ]
          },
          "metadata": {},
          "execution_count": 2
        }
      ]
    },
    {
      "cell_type": "code",
      "source": [
        "# printing tuples of letters that follow one after other \n",
        "for w in words[:1]:\n",
        "  # adding special characters for start and end\n",
        "  chs = ['<S>'] + list(w) + ['<E>'] \n",
        "  for ch1, ch2 in zip(chs, chs[1:]):\n",
        "    print(ch1, ch2)"
      ],
      "metadata": {
        "colab": {
          "base_uri": "https://localhost:8080/"
        },
        "id": "Todu43pttaC6",
        "outputId": "689400fe-e7cf-4b5e-b05e-f6cd97ca98c0"
      },
      "execution_count": null,
      "outputs": [
        {
          "output_type": "stream",
          "name": "stdout",
          "text": [
            "<S> e\n",
            "e m\n",
            "m m\n",
            "m a\n",
            "a <E>\n"
          ]
        }
      ]
    },
    {
      "cell_type": "code",
      "source": [
        "# maintaining a map of the bigrams with count to know which are more likely to happen\n",
        "b = {}\n",
        "\n",
        "# printing tuples of letters that follow one after other \n",
        "for w in words:\n",
        "  # adding special characters for start and end\n",
        "  chs = ['<S>'] + list(w) + ['<E>'] \n",
        "  for ch1, ch2 in zip(chs, chs[1:]):\n",
        "    bigram = (ch1, ch2)\n",
        "    # if the bigram does not exist already, by default return occurance count as 0\n",
        "    b[bigram] = b.get(bigram,0) + 1 \n",
        "    # print(ch1, ch2)\n"
      ],
      "metadata": {
        "id": "nmSldzfTuALb"
      },
      "execution_count": null,
      "outputs": []
    },
    {
      "cell_type": "code",
      "source": [
        "sorted(b.items(), key = lambda kv : kv[1])"
      ],
      "metadata": {
        "id": "dgdT8huAvVYD"
      },
      "execution_count": null,
      "outputs": []
    }
  ]
}