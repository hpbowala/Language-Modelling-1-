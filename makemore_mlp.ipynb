{
  "nbformat": 4,
  "nbformat_minor": 0,
  "metadata": {
    "colab": {
      "provenance": [],
      "authorship_tag": "ABX9TyNZUFXwRGDhjf4lcWSJsAmk",
      "include_colab_link": true
    },
    "kernelspec": {
      "name": "python3",
      "display_name": "Python 3"
    },
    "language_info": {
      "name": "python"
    }
  },
  "cells": [
    {
      "cell_type": "markdown",
      "metadata": {
        "id": "view-in-github",
        "colab_type": "text"
      },
      "source": [
        "<a href=\"https://colab.research.google.com/github/hpbowala/Language-Modelling-1-/blob/main/makemore_mlp.ipynb\" target=\"_parent\"><img src=\"https://colab.research.google.com/assets/colab-badge.svg\" alt=\"Open In Colab\"/></a>"
      ]
    },
    {
      "cell_type": "code",
      "execution_count": null,
      "metadata": {
        "id": "8JeZvd8KTPLp"
      },
      "outputs": [],
      "source": [
        "import torch\n",
        "import torch.nn.functional as F"
      ]
    },
    {
      "cell_type": "code",
      "source": [
        "words = open('names.txt', 'r').read().splitlines()"
      ],
      "metadata": {
        "id": "GZlhOo0uTfIc"
      },
      "execution_count": null,
      "outputs": []
    },
    {
      "cell_type": "code",
      "source": [
        "# build a vocabulary of chars from dataset \n",
        "# we need unique chars that is used in words, and sort them\n",
        "chars = sorted(list(set(''.join(words))))\n",
        "stoi = {s:i+1 for i,s in enumerate(chars)}\n",
        "stoi['.']=0\n",
        "itos = {i:s for s,i in stoi.items()}"
      ],
      "metadata": {
        "id": "HEzv00-gUEF7"
      },
      "execution_count": null,
      "outputs": []
    },
    {
      "cell_type": "code",
      "source": [
        "block_size = 3 # context length: how many characters do we take to predict the next one?\n",
        "X, Y = [], []\n",
        "for w in words[:5]:\n",
        "  \n",
        "  #print(w)\n",
        "  context = [0] * block_size\n",
        "  for ch in w + '.':\n",
        "    ix = stoi[ch]\n",
        "    X.append(context)\n",
        "    Y.append(ix)\n",
        "    # print(''.join(itos[i] for i in context), '--->', itos[ix])\n",
        "    context = context[1:] + [ix] # crop and append\n",
        "  \n",
        "X = torch.tensor(X)\n",
        "Y = torch.tensor(Y)"
      ],
      "metadata": {
        "id": "N_Nd7Lo6k5AV"
      },
      "execution_count": null,
      "outputs": []
    },
    {
      "cell_type": "code",
      "source": [
        "X.shape"
      ],
      "metadata": {
        "colab": {
          "base_uri": "https://localhost:8080/"
        },
        "id": "HjRWkwIGmfgf",
        "outputId": "e8c15c3f-f648-4e9e-cc51-4fc1ce44f315"
      },
      "execution_count": null,
      "outputs": [
        {
          "output_type": "execute_result",
          "data": {
            "text/plain": [
              "torch.Size([32, 3])"
            ]
          },
          "metadata": {},
          "execution_count": 54
        }
      ]
    },
    {
      "cell_type": "code",
      "source": [
        "e = F.one_hot(X, num_classes=27).float()"
      ],
      "metadata": {
        "id": "LFicc9ohn0xW"
      },
      "execution_count": null,
      "outputs": []
    },
    {
      "cell_type": "code",
      "source": [
        "e.shape"
      ],
      "metadata": {
        "colab": {
          "base_uri": "https://localhost:8080/"
        },
        "id": "OTqhqO5Apl5Z",
        "outputId": "ddc659b3-6f53-4d94-de3e-99875d1a4dbc"
      },
      "execution_count": null,
      "outputs": [
        {
          "output_type": "execute_result",
          "data": {
            "text/plain": [
              "torch.Size([32, 3, 27])"
            ]
          },
          "metadata": {},
          "execution_count": 56
        }
      ]
    },
    {
      "cell_type": "code",
      "source": [
        "e[0].shape"
      ],
      "metadata": {
        "colab": {
          "base_uri": "https://localhost:8080/"
        },
        "id": "L6OvBWbKpyHa",
        "outputId": "155988ac-d6eb-430c-84b5-5a8ed5d90ed6"
      },
      "execution_count": null,
      "outputs": [
        {
          "output_type": "execute_result",
          "data": {
            "text/plain": [
              "torch.Size([3, 27])"
            ]
          },
          "metadata": {},
          "execution_count": 57
        }
      ]
    },
    {
      "cell_type": "code",
      "source": [
        "e[0]"
      ],
      "metadata": {
        "colab": {
          "base_uri": "https://localhost:8080/"
        },
        "id": "aM6aejmJqAfp",
        "outputId": "a0b823b0-a484-4fe7-c61d-3c6006f0fb79"
      },
      "execution_count": null,
      "outputs": [
        {
          "output_type": "execute_result",
          "data": {
            "text/plain": [
              "tensor([[1., 0., 0., 0., 0., 0., 0., 0., 0., 0., 0., 0., 0., 0., 0., 0., 0., 0.,\n",
              "         0., 0., 0., 0., 0., 0., 0., 0., 0.],\n",
              "        [1., 0., 0., 0., 0., 0., 0., 0., 0., 0., 0., 0., 0., 0., 0., 0., 0., 0.,\n",
              "         0., 0., 0., 0., 0., 0., 0., 0., 0.],\n",
              "        [1., 0., 0., 0., 0., 0., 0., 0., 0., 0., 0., 0., 0., 0., 0., 0., 0., 0.,\n",
              "         0., 0., 0., 0., 0., 0., 0., 0., 0.]])"
            ]
          },
          "metadata": {},
          "execution_count": 58
        }
      ]
    },
    {
      "cell_type": "code",
      "source": [
        "# [[487.9,780.5],[487.9,780.5],[487.9,780.5]]\n",
        "[3, 27] , [27,2]"
      ],
      "metadata": {
        "colab": {
          "base_uri": "https://localhost:8080/"
        },
        "id": "YqktUSJcsJ0S",
        "outputId": "06b4fb12-2f85-4a72-bd34-cdfcf7de6844"
      },
      "execution_count": null,
      "outputs": [
        {
          "output_type": "execute_result",
          "data": {
            "text/plain": [
              "([3, 27], [27, 2])"
            ]
          },
          "metadata": {},
          "execution_count": 59
        }
      ]
    },
    {
      "cell_type": "code",
      "source": [
        "g = torch.Generator().manual_seed(265989)\n",
        "W_binning = torch.randn((27,2),generator=g)\n",
        "W_binning"
      ],
      "metadata": {
        "colab": {
          "base_uri": "https://localhost:8080/"
        },
        "id": "K8dGQ7i3tWc_",
        "outputId": "92dbc928-5daf-45a3-e479-5dbd0193ac76"
      },
      "execution_count": null,
      "outputs": [
        {
          "output_type": "execute_result",
          "data": {
            "text/plain": [
              "tensor([[-0.3412, -0.5439],\n",
              "        [-0.4370, -2.1848],\n",
              "        [-1.7497,  0.4085],\n",
              "        [ 0.3157,  0.8403],\n",
              "        [ 0.8791, -0.2559],\n",
              "        [-1.5511,  0.0979],\n",
              "        [ 0.7870, -0.7681],\n",
              "        [-0.1608, -0.4183],\n",
              "        [ 0.8205, -0.0401],\n",
              "        [ 0.3133, -0.4411],\n",
              "        [-0.2562,  0.6405],\n",
              "        [ 0.1609,  1.2027],\n",
              "        [ 0.0508, -0.1308],\n",
              "        [ 1.0570, -0.1836],\n",
              "        [-2.0756,  0.8777],\n",
              "        [ 0.2965,  0.1616],\n",
              "        [ 1.8882,  0.5500],\n",
              "        [ 0.2564,  0.7203],\n",
              "        [ 0.2077, -1.5529],\n",
              "        [ 0.8031, -0.4730],\n",
              "        [ 0.3695, -0.3791],\n",
              "        [ 0.0861, -0.1276],\n",
              "        [-0.6042, -0.7568],\n",
              "        [-1.4354, -1.2370],\n",
              "        [ 0.1461, -0.4351],\n",
              "        [ 0.5395, -1.1079],\n",
              "        [ 0.0142,  0.6782]])"
            ]
          },
          "metadata": {},
          "execution_count": 60
        }
      ]
    },
    {
      "cell_type": "code",
      "source": [
        "e[3] @ W_binning"
      ],
      "metadata": {
        "colab": {
          "base_uri": "https://localhost:8080/"
        },
        "id": "ESvpLpBhvmSK",
        "outputId": "9c286132-2851-46d7-8c23-d0d1e9d74677"
      },
      "execution_count": null,
      "outputs": [
        {
          "output_type": "execute_result",
          "data": {
            "text/plain": [
              "tensor([[-1.5511,  0.0979],\n",
              "        [ 1.0570, -0.1836],\n",
              "        [ 1.0570, -0.1836]])"
            ]
          },
          "metadata": {},
          "execution_count": 68
        }
      ]
    },
    {
      "cell_type": "code",
      "source": [
        "X[3]"
      ],
      "metadata": {
        "colab": {
          "base_uri": "https://localhost:8080/"
        },
        "id": "YwLlF1Skw9OW",
        "outputId": "06edc9a8-b2a9-4e51-96f1-1ead0a0e879f"
      },
      "execution_count": null,
      "outputs": [
        {
          "output_type": "execute_result",
          "data": {
            "text/plain": [
              "tensor([ 5, 13, 13])"
            ]
          },
          "metadata": {},
          "execution_count": 66
        }
      ]
    },
    {
      "cell_type": "code",
      "source": [
        "W_binning[X].shape"
      ],
      "metadata": {
        "colab": {
          "base_uri": "https://localhost:8080/"
        },
        "id": "4z47vZt6wb0n",
        "outputId": "b2605549-d0c9-4e00-9163-95f55b9ae7f7"
      },
      "execution_count": null,
      "outputs": [
        {
          "output_type": "execute_result",
          "data": {
            "text/plain": [
              "torch.Size([32, 3, 2])"
            ]
          },
          "metadata": {},
          "execution_count": 70
        }
      ]
    },
    {
      "cell_type": "code",
      "source": [
        "# binning the values in the first layer to two dimensions\n",
        "out_binned = W_binning[X]\n",
        "out_binned.shape"
      ],
      "metadata": {
        "colab": {
          "base_uri": "https://localhost:8080/"
        },
        "id": "O_IlWmUyyFk3",
        "outputId": "110774fa-1f77-4444-a855-7d5722e2dd64"
      },
      "execution_count": null,
      "outputs": [
        {
          "output_type": "execute_result",
          "data": {
            "text/plain": [
              "torch.Size([32, 3, 2])"
            ]
          },
          "metadata": {},
          "execution_count": 79
        }
      ]
    },
    {
      "cell_type": "code",
      "source": [
        "out_binned[0]"
      ],
      "metadata": {
        "colab": {
          "base_uri": "https://localhost:8080/"
        },
        "id": "tAQb6mRn4H-I",
        "outputId": "4385b284-62d2-40b8-9499-a890a293239a"
      },
      "execution_count": null,
      "outputs": [
        {
          "output_type": "execute_result",
          "data": {
            "text/plain": [
              "tensor([[-0.3412, -0.5439],\n",
              "        [-0.3412, -0.5439],\n",
              "        [-0.3412, -0.5439]])"
            ]
          },
          "metadata": {},
          "execution_count": 80
        }
      ]
    },
    {
      "cell_type": "code",
      "source": [
        "W_hidden = torch.randn((6,100),generator=g)\n",
        "bias = torch.randn((100),generator=g)\n",
        "concat_out_binned = torch.cat((out_binned[:,0,:],out_binned[:,1,:],out_binned[:,2,:]),1)\n",
        "# concat_out_binned.shape\n",
        "in_hidden_activation = concat_out_binned @ W_hidden + bias\n",
        "out_hidden = torch.tanh(in_hidden_activation)\n",
        "out_hidden.shape"
      ],
      "metadata": {
        "colab": {
          "base_uri": "https://localhost:8080/"
        },
        "id": "ZFXJAijJ0dtN",
        "outputId": "6483638a-cda3-4a6d-a07e-d47a3b417cfb"
      },
      "execution_count": null,
      "outputs": [
        {
          "output_type": "execute_result",
          "data": {
            "text/plain": [
              "torch.Size([32, 100])"
            ]
          },
          "metadata": {},
          "execution_count": 88
        }
      ]
    }
  ]
}